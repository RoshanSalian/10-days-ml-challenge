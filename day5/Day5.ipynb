{
  "nbformat": 4,
  "nbformat_minor": 0,
  "metadata": {
    "colab": {
      "name": "Day5.ipynb",
      "provenance": [],
      "collapsed_sections": []
    },
    "kernelspec": {
      "name": "python3",
      "display_name": "Python 3"
    },
    "accelerator": "GPU"
  },
  "cells": [
    {
      "cell_type": "code",
      "metadata": {
        "id": "xOvn9vBPRs5E",
        "colab_type": "code",
        "colab": {}
      },
      "source": [
        "import numpy as np\n",
        "import pandas as pd\n",
        "import matplotlib.pyplot as plt\n",
        "import matplotlib.image as imread\n",
        "import os\n",
        "from keras.preprocessing.image import load_img\n",
        "from keras.preprocessing.image import img_to_array\n",
        "import random\n",
        "from keras.utils import to_categorical\n",
        "from keras.models import Sequential\n",
        "from keras.layers import Conv2D\n",
        "from keras.layers import MaxPooling2D, Dropout\n",
        "from keras.layers import Dense\n",
        "from keras.layers import Flatten\n",
        "from keras.optimizers import SGD\n",
        "from keras.preprocessing.image import ImageDataGenerator"
      ],
      "execution_count": 0,
      "outputs": []
    },
    {
      "cell_type": "code",
      "metadata": {
        "id": "sRoCVWyPrGtp",
        "colab_type": "code",
        "outputId": "7a340e98-8051-4a9f-890a-4fa828038441",
        "colab": {
          "base_uri": "https://localhost:8080/",
          "height": 33
        }
      },
      "source": [
        "print(len([iq for iq in os.scandir('cats_and_dogs_filtered/train/cats/')]))"
      ],
      "execution_count": 0,
      "outputs": [
        {
          "output_type": "stream",
          "text": [
            "1000\n"
          ],
          "name": "stdout"
        }
      ]
    },
    {
      "cell_type": "code",
      "metadata": {
        "id": "TqxApM5MqdI0",
        "colab_type": "code",
        "outputId": "30cfe947-07c6-464e-a60b-29af0b56ca6c",
        "colab": {
          "base_uri": "https://localhost:8080/",
          "height": 50
        }
      },
      "source": [
        "test_datagen = ImageDataGenerator(rescale=1./255)\n",
        "train_datagen = ImageDataGenerator(\n",
        "      rescale=1./255,\n",
        "      rotation_range=20,\n",
        "      width_shift_range=0.2,\n",
        "      height_shift_range=0.2,\n",
        "      shear_range=0.2,\n",
        "      zoom_range=0.2,\n",
        "      horizontal_flip=True,\n",
        "      vertical_flip=True,\n",
        "      fill_mode='nearest')\n",
        "train_generator = train_datagen.flow_from_directory(\n",
        "        'cats_and_dogs_filtered/train/',\n",
        "        target_size=(200, 200),\n",
        "        batch_size=64,\n",
        "        class_mode='binary')\n",
        "test_generator = test_datagen.flow_from_directory(\n",
        "        'cats_and_dogs_filtered/validation/',\n",
        "        target_size=(200, 200),\n",
        "        batch_size=64,\n",
        "        class_mode='binary')"
      ],
      "execution_count": 0,
      "outputs": [
        {
          "output_type": "stream",
          "text": [
            "Found 2000 images belonging to 2 classes.\n",
            "Found 1000 images belonging to 2 classes.\n"
          ],
          "name": "stdout"
        }
      ]
    },
    {
      "cell_type": "code",
      "metadata": {
        "id": "Vle8sWY5f92H",
        "colab_type": "code",
        "colab": {}
      },
      "source": [
        "photos, labels=list(), list()"
      ],
      "execution_count": 0,
      "outputs": []
    },
    {
      "cell_type": "code",
      "metadata": {
        "id": "W93mUG8haBjs",
        "colab_type": "code",
        "colab": {}
      },
      "source": [
        "# folder='training_set/dogs/'\n",
        "# for i in range(9):\n",
        "#   plt.subplot(330+1+i)\n",
        "#   filename=folder+'dogs.'+str(370)+str(i)+'.jpg'\n",
        "#   image=plt.imread(filename)\n",
        "#   plt.imshow(image)\n",
        "# plt.show()\n",
        "\n",
        "folder='cats_and_dogs_filtered/train/dogs/'\n",
        "for file in os.listdir(folder):\n",
        "  if file!='.DS_Store':\n",
        "    output=0.0\n",
        "    photo=load_img(folder+file, target_size=(200, 200))\n",
        "    photo=img_to_array(photo)\n",
        "    photos.append(photo)\n",
        "    labels.append(output)"
      ],
      "execution_count": 0,
      "outputs": []
    },
    {
      "cell_type": "code",
      "metadata": {
        "id": "sY-z9680b82f",
        "colab_type": "code",
        "colab": {}
      },
      "source": [
        "# folder='cats_and_dogs_filtered/train'\n",
        "# for i in range(9):\n",
        "#   plt.subplt(330+1+i)\n",
        "#   filename=folder+'cats.'+str(i)+'.jpg'\n",
        "#   image=imread(filename)\n",
        "#   plt.imshow(image)\n",
        "# plt.show()\n",
        "\n",
        "folder='cats_and_dogs_filtered/train/cats/'\n",
        "for file in os.listdir(folder):\n",
        "  if file!='.DS_Store':\n",
        "    output=1.0\n",
        "    photo=load_img(folder+file, target_size=(200, 200))\n",
        "    photo=img_to_array(photo)\n",
        "    photos.append(photo)\n",
        "    labels.append(output)\n",
        "\n",
        "photos=np.asarray(photos)\n",
        "labels=np.asarray(labels)"
      ],
      "execution_count": 0,
      "outputs": []
    },
    {
      "cell_type": "code",
      "metadata": {
        "id": "T1niTrDy2kVh",
        "colab_type": "code",
        "colab": {}
      },
      "source": [
        "photos_t, labels_t=list(), list()\n",
        "folder='cats_and_dogs_filtered/validation/cats/'\n",
        "for file in os.listdir(folder):\n",
        "  if file!='.DS_Store':\n",
        "    output=1.0\n",
        "    photo=load_img(folder+file, target_size=(200, 200))\n",
        "    photo=img_to_array(photo)\n",
        "    photos_t.append(photo)\n",
        "    labels_t.append(output)\n",
        "\n",
        "folder='cats_and_dogs_filtered/validation/dogs/'\n",
        "for file in os.listdir(folder):\n",
        "  if file!='.DS_Store':\n",
        "    output=0.0\n",
        "    photo=load_img(folder+file, target_size=(200, 200))\n",
        "    photo=img_to_array(photo)\n",
        "    photos_t.append(photo)\n",
        "    labels_t.append(output)\n",
        "\n",
        "photos_t=np.asarray(photos_t)\n",
        "labels_t=np.asarray(labels_t)"
      ],
      "execution_count": 0,
      "outputs": []
    },
    {
      "cell_type": "code",
      "metadata": {
        "id": "31UwWKMHwtW5",
        "colab_type": "code",
        "colab": {}
      },
      "source": [
        "os.chdir('/content')"
      ],
      "execution_count": 0,
      "outputs": []
    },
    {
      "cell_type": "code",
      "metadata": {
        "id": "nIcmizTwcSaN",
        "colab_type": "code",
        "colab": {}
      },
      "source": [
        "np.save('dogs_vs_cats_photos_train.npy', photos)\n",
        "np.save('dogs_vs_cats_labels_train.npy', labels)\n",
        "np.save('dogs_vs_cats_photos_test.npy', photos_t)\n",
        "np.save('dogs_vs_cats_labels_test.npy', labels_t)"
      ],
      "execution_count": 0,
      "outputs": []
    },
    {
      "cell_type": "code",
      "metadata": {
        "id": "jjFpgQzExJIN",
        "colab_type": "code",
        "outputId": "e2386c1b-e8d4-425b-b3c5-598c53b4df78",
        "colab": {
          "base_uri": "https://localhost:8080/",
          "height": 33
        }
      },
      "source": [
        "X_train=np.load('dogs_vs_cats_photos_train.npy')\n",
        "y_train=np.load('dogs_vs_cats_labels_train.npy')\n",
        "X_test=np.load('dogs_vs_cats_photos_test.npy')\n",
        "y_test=np.load('dogs_vs_cats_labels_test.npy')\n",
        "print(photos.shape, labels.shape)"
      ],
      "execution_count": 0,
      "outputs": [
        {
          "output_type": "stream",
          "text": [
            "(2000, 200, 200, 3) (2000,)\n"
          ],
          "name": "stdout"
        }
      ]
    },
    {
      "cell_type": "code",
      "metadata": {
        "id": "VDQHzQZVzpKN",
        "colab_type": "code",
        "outputId": "1a4d380d-4790-4fb7-9bfc-eda544845b4f",
        "colab": {
          "base_uri": "https://localhost:8080/",
          "height": 583
        }
      },
      "source": [
        ""
      ],
      "execution_count": 0,
      "outputs": [
        {
          "output_type": "stream",
          "text": [
            "Model: \"sequential_3\"\n",
            "_________________________________________________________________\n",
            "Layer (type)                 Output Shape              Param #   \n",
            "=================================================================\n",
            "conv2d_11 (Conv2D)           (None, 198, 198, 32)      896       \n",
            "_________________________________________________________________\n",
            "max_pooling2d_9 (MaxPooling2 (None, 99, 99, 32)        0         \n",
            "_________________________________________________________________\n",
            "conv2d_12 (Conv2D)           (None, 97, 97, 64)        18496     \n",
            "_________________________________________________________________\n",
            "conv2d_13 (Conv2D)           (None, 95, 95, 64)        36928     \n",
            "_________________________________________________________________\n",
            "max_pooling2d_10 (MaxPooling (None, 47, 47, 64)        0         \n",
            "_________________________________________________________________\n",
            "conv2d_14 (Conv2D)           (None, 45, 45, 128)       73856     \n",
            "_________________________________________________________________\n",
            "max_pooling2d_11 (MaxPooling (None, 22, 22, 128)       0         \n",
            "_________________________________________________________________\n",
            "conv2d_15 (Conv2D)           (None, 20, 20, 256)       295168    \n",
            "_________________________________________________________________\n",
            "max_pooling2d_12 (MaxPooling (None, 10, 10, 256)       0         \n",
            "_________________________________________________________________\n",
            "flatten_3 (Flatten)          (None, 25600)             0         \n",
            "_________________________________________________________________\n",
            "dense_5 (Dense)              (None, 150)               3840150   \n",
            "_________________________________________________________________\n",
            "dropout_3 (Dropout)          (None, 150)               0         \n",
            "_________________________________________________________________\n",
            "dense_6 (Dense)              (None, 1)                 151       \n",
            "=================================================================\n",
            "Total params: 4,265,645\n",
            "Trainable params: 4,265,645\n",
            "Non-trainable params: 0\n",
            "_________________________________________________________________\n"
          ],
          "name": "stdout"
        }
      ]
    },
    {
      "cell_type": "code",
      "metadata": {
        "id": "99WcYebt0u0C",
        "colab_type": "code",
        "colab": {}
      },
      "source": [
        ""
      ],
      "execution_count": 0,
      "outputs": []
    },
    {
      "cell_type": "code",
      "metadata": {
        "id": "h6s12gVUkCE8",
        "colab_type": "code",
        "outputId": "3bfe9c66-aafe-474b-df11-d2940a11d918",
        "colab": {
          "base_uri": "https://localhost:8080/",
          "height": 50
        }
      },
      "source": [
        "import tensorflow as tf\n",
        "data = tf.keras.utils.get_file(\n",
        "    'cats_and_dogs_filetered.zip', 'https://storage.googleapis.com/mledu-datasets/cats_and_dogs_filtered.zip', untar=False, md5_hash=None, file_hash=None,\n",
        "    cache_subdir='datasets', hash_algorithm='auto', extract=True,\n",
        "    archive_format='auto', cache_dir=None\n",
        ")"
      ],
      "execution_count": 0,
      "outputs": [
        {
          "output_type": "stream",
          "text": [
            "Downloading data from https://storage.googleapis.com/mledu-datasets/cats_and_dogs_filtered.zip\n",
            "68608000/68606236 [==============================] - 1s 0us/step\n"
          ],
          "name": "stdout"
        }
      ]
    },
    {
      "cell_type": "code",
      "metadata": {
        "id": "CY_o2pQh1bp-",
        "colab_type": "code",
        "outputId": "b98614d1-f50d-4a44-bfae-7aaed562bc52",
        "colab": {
          "base_uri": "https://localhost:8080/",
          "height": 200
        }
      },
      "source": [
        "!wget --no-check-certificate \\\n",
        "    https://storage.googleapis.com/mledu-datasets/cats_and_dogs_filtered.zip \\\n",
        "    -O /tmp/cats_and_dogs_filtered.zip"
      ],
      "execution_count": 0,
      "outputs": [
        {
          "output_type": "stream",
          "text": [
            "--2020-03-27 10:51:06--  https://storage.googleapis.com/mledu-datasets/cats_and_dogs_filtered.zip\n",
            "Resolving storage.googleapis.com (storage.googleapis.com)... 108.177.119.128, 2a00:1450:4013:c00::80\n",
            "Connecting to storage.googleapis.com (storage.googleapis.com)|108.177.119.128|:443... connected.\n",
            "HTTP request sent, awaiting response... 200 OK\n",
            "Length: 68606236 (65M) [application/zip]\n",
            "Saving to: ‘/tmp/cats_and_dogs_filtered.zip’\n",
            "\n",
            "\r          /tmp/cats   0%[                    ]       0  --.-KB/s               \r         /tmp/cats_   6%[>                   ]   4.01M  14.6MB/s               \r        /tmp/cats_a  61%[===========>        ]  40.01M  62.3MB/s               \r/tmp/cats_and_dogs_ 100%[===================>]  65.43M  92.6MB/s    in 0.7s    \n",
            "\n",
            "2020-03-27 10:51:07 (92.6 MB/s) - ‘/tmp/cats_and_dogs_filtered.zip’ saved [68606236/68606236]\n",
            "\n"
          ],
          "name": "stdout"
        }
      ]
    },
    {
      "cell_type": "code",
      "metadata": {
        "id": "9rIyEx1Cn1JS",
        "colab_type": "code",
        "colab": {}
      },
      "source": [
        "!unzip cats_and_dogs_filtered.zip"
      ],
      "execution_count": 0,
      "outputs": []
    },
    {
      "cell_type": "code",
      "metadata": {
        "id": "XtS2l8J1n9SG",
        "colab_type": "code",
        "colab": {}
      },
      "source": [
        "!cp -r cats_and_dogs_filtered /content"
      ],
      "execution_count": 0,
      "outputs": []
    },
    {
      "cell_type": "code",
      "metadata": {
        "id": "RdYaK1LyHS5L",
        "colab_type": "code",
        "outputId": "dd752430-615c-416e-f4e6-c66f250a6a07",
        "colab": {
          "base_uri": "https://localhost:8080/",
          "height": 33
        }
      },
      "source": [
        "import tensorflow as tf \n",
        "tf.test.gpu_device_name() "
      ],
      "execution_count": 0,
      "outputs": [
        {
          "output_type": "execute_result",
          "data": {
            "text/plain": [
              "'/device:GPU:0'"
            ]
          },
          "metadata": {
            "tags": []
          },
          "execution_count": 77
        }
      ]
    },
    {
      "cell_type": "code",
      "metadata": {
        "id": "Bemp1AZ9zDQs",
        "colab_type": "code",
        "colab": {}
      },
      "source": [
        "model = Sequential()\n",
        "model.add(Conv2D(32, (3, 3), activation='relu', input_shape=(200, 200, 3)))\n",
        "model.add(MaxPooling2D((2, 2)))\n",
        "model.add(Conv2D(64, (3, 3), activation='relu'))\n",
        "model.add(Conv2D(64, (3, 3), activation='relu'))\n",
        "model.add(MaxPooling2D((2, 2)))\n",
        "model.add(Conv2D(128, (3, 3), activation='relu'))\n",
        "model.add(MaxPooling2D((2, 2)))\n",
        "model.add(Conv2D(256, (3, 3), activation='relu'))\n",
        "model.add(MaxPooling2D((2, 2)))\n",
        "model.add(Flatten())\n",
        "model.add(Dense(150, activation='relu'))\n",
        "model.add(Dropout(0.25))\n",
        "model.add(Dense(1, activation='sigmoid'))\n",
        "model.summary()\n",
        "#accuracy=50%"
      ],
      "execution_count": 0,
      "outputs": []
    },
    {
      "cell_type": "code",
      "metadata": {
        "id": "dxE4_fCS0GJR",
        "colab_type": "code",
        "colab": {}
      },
      "source": [
        "model = Sequential()\n",
        "model.add(Conv2D(32, (3, 3), activation='relu', kernel_initializer='he_uniform', padding='same', input_shape=(200, 200, 3)))\n",
        "model.add(MaxPooling2D((2, 2)))\n",
        "model.add(Flatten())\n",
        "model.add(Dense(128, activation='relu', kernel_initializer='he_uniform'))\n",
        "model.add(Dense(1, activation='sigmoid'))\n",
        "# compile model\n",
        "opt = SGD(lr=0.001, momentum=0.9)\n",
        "model.compile(optimizer=opt, loss='binary_crossentropy', metrics=['accuracy'])\n",
        "#accuracy=51%\n"
      ],
      "execution_count": 0,
      "outputs": []
    },
    {
      "cell_type": "code",
      "metadata": {
        "id": "vaE9IIq15ZO8",
        "colab_type": "code",
        "outputId": "f1acacc3-9b5d-446d-8dfb-237afe1a2a1e",
        "colab": {
          "base_uri": "https://localhost:8080/",
          "height": 416
        }
      },
      "source": [
        "model = Sequential()\n",
        "\n",
        "initializers = {\n",
        "    \n",
        "}\n",
        "model.add( \n",
        "    Conv2D(\n",
        "        24, 5, input_shape=(200,200,3), \n",
        "        activation='relu', \n",
        "    )\n",
        ")\n",
        "model.add(MaxPooling2D(2) )\n",
        "model.add( \n",
        "    Conv2D(\n",
        "        48, 5, activation='relu', \n",
        "    )\n",
        ")\n",
        "model.add( MaxPooling2D(2) )\n",
        "model.add( \n",
        "    Conv2D(\n",
        "        96, 5, activation='relu', \n",
        "    )\n",
        ")\n",
        "model.add( Flatten() )\n",
        "model.add( Dropout(0.2) )\n",
        "\n",
        "model.add( Dense(\n",
        "    1, activation='softmax',\n",
        "    )\n",
        ")\n",
        "\n",
        "model.summary()\n",
        "\n",
        "model.compile(loss='binary_crossentropy',\n",
        "              optimizer=\"adam\",\n",
        "              metrics=['acc'])"
      ],
      "execution_count": 0,
      "outputs": [
        {
          "output_type": "stream",
          "text": [
            "Model: \"sequential_9\"\n",
            "_________________________________________________________________\n",
            "Layer (type)                 Output Shape              Param #   \n",
            "=================================================================\n",
            "conv2d_27 (Conv2D)           (None, 196, 196, 24)      1824      \n",
            "_________________________________________________________________\n",
            "max_pooling2d_22 (MaxPooling (None, 98, 98, 24)        0         \n",
            "_________________________________________________________________\n",
            "conv2d_28 (Conv2D)           (None, 94, 94, 48)        28848     \n",
            "_________________________________________________________________\n",
            "max_pooling2d_23 (MaxPooling (None, 47, 47, 48)        0         \n",
            "_________________________________________________________________\n",
            "conv2d_29 (Conv2D)           (None, 43, 43, 96)        115296    \n",
            "_________________________________________________________________\n",
            "flatten_8 (Flatten)          (None, 177504)            0         \n",
            "_________________________________________________________________\n",
            "dropout_7 (Dropout)          (None, 177504)            0         \n",
            "_________________________________________________________________\n",
            "dense_12 (Dense)             (None, 1)                 177505    \n",
            "=================================================================\n",
            "Total params: 323,473\n",
            "Trainable params: 323,473\n",
            "Non-trainable params: 0\n",
            "_________________________________________________________________\n"
          ],
          "name": "stdout"
        }
      ]
    },
    {
      "cell_type": "code",
      "metadata": {
        "id": "xl-3nkBrzH7H",
        "colab_type": "code",
        "colab": {}
      },
      "source": [
        "from keras.callbacks import EarlyStopping, ModelCheckpoint\n",
        "model.compile(loss=\"binary_crossentropy\",\n",
        "              optimizer=\"adam\",\n",
        "              metrics=[\"accuracy\"])\n",
        "callbacks_list = [\n",
        "                  EarlyStopping(monitor='val_loss', patience=10),\n",
        "                  ModelCheckpoint(filepath='cat_dog1.h5', monitor='val_loss', save_best_only=True),\n",
        "]"
      ],
      "execution_count": 0,
      "outputs": []
    },
    {
      "cell_type": "code",
      "metadata": {
        "id": "oIdhxaXUt9YG",
        "colab_type": "code",
        "outputId": "f881f513-ef08-46c2-8abb-b8fda3ed7aac",
        "colab": {
          "base_uri": "https://localhost:8080/",
          "height": 50
        }
      },
      "source": [
        "test_datagen = ImageDataGenerator(rescale=1./255,)\n",
        "train_datagen = ImageDataGenerator(\n",
        "      rescale=1./255,\n",
        "      rotation_range=20,\n",
        "      width_shift_range=0.2,\n",
        "      height_shift_range=0.2,\n",
        "      shear_range=0.2,\n",
        "      zoom_range=0.2,\n",
        "      horizontal_flip=True,\n",
        "      vertical_flip=True,\n",
        "      fill_mode='nearest')\n",
        "train_generator = train_datagen.flow_from_directory(\n",
        "        'cats_and_dogs_filtered/train/',\n",
        "        target_size=(200, 200),\n",
        "        batch_size=64,\n",
        "        class_mode='binary')\n",
        "test_generator = test_datagen.flow_from_directory(\n",
        "        'cats_and_dogs_filtered/validation/',\n",
        "        target_size=(200, 200),\n",
        "        batch_size=64,\n",
        "        class_mode='binary')"
      ],
      "execution_count": 0,
      "outputs": [
        {
          "output_type": "stream",
          "text": [
            "Found 2000 images belonging to 2 classes.\n",
            "Found 1000 images belonging to 2 classes.\n"
          ],
          "name": "stdout"
        }
      ]
    },
    {
      "cell_type": "code",
      "metadata": {
        "id": "Ky4DXvK2G3FN",
        "colab_type": "code",
        "outputId": "099abe1d-56f6-4d1e-e070-895c80bd5405",
        "colab": {
          "base_uri": "https://localhost:8080/",
          "height": 550
        }
      },
      "source": [
        "os.environ[\"CUDA_VISIBLE_DEVICES\"]=\"0\"\n",
        "with tf.device('/GPU:0'):\n",
        "  history = model.fit_generator(train_generator, steps_per_epoch=len(train_generator), epochs=100, validation_data=test_generator, validation_steps=len(test_generator), callbacks=callbacks_list)"
      ],
      "execution_count": 0,
      "outputs": [
        {
          "output_type": "stream",
          "text": [
            "Epoch 1/100\n",
            "32/32 [==============================] - 25s 768ms/step - loss: 7.9485 - acc: 0.5014 - val_loss: 7.9712 - val_acc: 0.5000\n",
            "Epoch 2/100\n",
            "32/32 [==============================] - 19s 606ms/step - loss: 7.9938 - acc: 0.4986 - val_loss: 7.9712 - val_acc: 0.5000\n",
            "Epoch 3/100\n",
            "32/32 [==============================] - 23s 730ms/step - loss: 7.9712 - acc: 0.5000 - val_loss: 7.9712 - val_acc: 0.5000\n",
            "Epoch 4/100\n",
            "32/32 [==============================] - 23s 726ms/step - loss: 7.9485 - acc: 0.5014 - val_loss: 7.9712 - val_acc: 0.5000\n",
            "Epoch 5/100\n",
            "32/32 [==============================] - 23s 724ms/step - loss: 7.9033 - acc: 0.5043 - val_loss: 7.9712 - val_acc: 0.5000\n",
            "Epoch 6/100\n",
            "32/32 [==============================] - 23s 718ms/step - loss: 7.9485 - acc: 0.5014 - val_loss: 7.9712 - val_acc: 0.5000\n",
            "Epoch 7/100\n",
            "32/32 [==============================] - 23s 730ms/step - loss: 7.9485 - acc: 0.5014 - val_loss: 7.9712 - val_acc: 0.5000\n",
            "Epoch 8/100\n",
            "32/32 [==============================] - 23s 726ms/step - loss: 7.9485 - acc: 0.5014 - val_loss: 7.9712 - val_acc: 0.5000\n",
            "Epoch 9/100\n",
            "32/32 [==============================] - 24s 736ms/step - loss: 7.9712 - acc: 0.5000 - val_loss: 7.9712 - val_acc: 0.5000\n",
            "Epoch 10/100\n",
            "32/32 [==============================] - 24s 736ms/step - loss: 7.9938 - acc: 0.4986 - val_loss: 7.9712 - val_acc: 0.5000\n",
            "Epoch 11/100\n",
            "32/32 [==============================] - 24s 739ms/step - loss: 8.1071 - acc: 0.4915 - val_loss: 7.9712 - val_acc: 0.5000\n",
            "Epoch 12/100\n",
            "32/32 [==============================] - 24s 740ms/step - loss: 7.9712 - acc: 0.5000 - val_loss: 7.9712 - val_acc: 0.5000\n",
            "Epoch 13/100\n",
            "32/32 [==============================] - 24s 743ms/step - loss: 7.9259 - acc: 0.5028 - val_loss: 7.9712 - val_acc: 0.5000\n",
            "Epoch 14/100\n",
            "32/32 [==============================] - 24s 743ms/step - loss: 7.9485 - acc: 0.5014 - val_loss: 7.9712 - val_acc: 0.5000\n",
            "Epoch 15/100\n",
            "32/32 [==============================] - 23s 733ms/step - loss: 7.9712 - acc: 0.5000 - val_loss: 7.9712 - val_acc: 0.5000\n",
            "Epoch 16/100\n",
            "32/32 [==============================] - 24s 737ms/step - loss: 7.9033 - acc: 0.5043 - val_loss: 7.9712 - val_acc: 0.5000\n"
          ],
          "name": "stdout"
        }
      ]
    },
    {
      "cell_type": "code",
      "metadata": {
        "id": "hDYvn2y89lUR",
        "colab_type": "code",
        "colab": {}
      },
      "source": [
        "model = Sequential()\n",
        "model.add(Conv2D(32, (3, 3), activation='relu', kernel_initializer='he_uniform', padding='same', input_shape=(200, 200, 3)))\n",
        "model.add(MaxPooling2D((2, 2)))\n",
        "model.add(Conv2D(64, (3, 3), activation='relu', kernel_initializer='he_uniform', padding='same'))\n",
        "model.add(MaxPooling2D((2, 2)))\n",
        "model.add(Conv2D(128, (3, 3), activation='relu', kernel_initializer='he_uniform', padding='same'))\n",
        "model.add(MaxPooling2D((2, 2)))\n",
        "model.add(Flatten())\n",
        "model.add(Dense(128, activation='relu', kernel_initializer='he_uniform'))\n",
        "model.add(Dense(1, activation='sigmoid'))\n",
        "# compile model\n",
        "opt = SGD(lr=0.001, momentum=0.9)\n",
        "model.compile(optimizer=opt, loss='binary_crossentropy', metrics=['accuracy'])\n"
      ],
      "execution_count": 0,
      "outputs": []
    },
    {
      "cell_type": "code",
      "metadata": {
        "id": "uQowgjH19w1s",
        "colab_type": "code",
        "outputId": "d1da00a2-96eb-4ebf-ecf6-2f1b3e10dd7c",
        "colab": {
          "base_uri": "https://localhost:8080/",
          "height": 50
        }
      },
      "source": [
        "datagen = ImageDataGenerator(rescale=1.0/255.0)\n",
        "train_it = datagen.flow_from_directory('cats_and_dogs_filtered/train/',\n",
        "\tclass_mode='binary', batch_size=64, target_size=(200, 200))\n",
        "test_it = datagen.flow_from_directory('cats_and_dogs_filtered/validation/',\n",
        "\tclass_mode='binary', batch_size=64, target_size=(200, 200))"
      ],
      "execution_count": 0,
      "outputs": [
        {
          "output_type": "stream",
          "text": [
            "Found 2000 images belonging to 2 classes.\n",
            "Found 1000 images belonging to 2 classes.\n"
          ],
          "name": "stdout"
        }
      ]
    },
    {
      "cell_type": "code",
      "metadata": {
        "id": "7n1LpH4O-CGH",
        "colab_type": "code",
        "outputId": "f11f6e6a-8d97-491a-8a28-23a52ed24534",
        "colab": {
          "base_uri": "https://localhost:8080/",
          "height": 483
        }
      },
      "source": [
        "history = model.fit_generator(train_it, steps_per_epoch=len(train_it),\n",
        "\tvalidation_data=test_it, validation_steps=len(test_it), epochs=50, callbacks=callbacks_list)"
      ],
      "execution_count": 0,
      "outputs": [
        {
          "output_type": "stream",
          "text": [
            "Epoch 1/50\n",
            "32/32 [==============================] - 9s 282ms/step - loss: 0.4682 - acc: 0.7807 - val_loss: 0.5673 - val_acc: 0.7060\n",
            "Epoch 2/50\n",
            "32/32 [==============================] - 8s 257ms/step - loss: 0.4229 - acc: 0.8164 - val_loss: 0.5731 - val_acc: 0.6940\n",
            "Epoch 3/50\n",
            "32/32 [==============================] - 8s 255ms/step - loss: 0.4143 - acc: 0.8133 - val_loss: 0.6076 - val_acc: 0.6850\n",
            "Epoch 4/50\n",
            "32/32 [==============================] - 8s 254ms/step - loss: 0.3926 - acc: 0.8364 - val_loss: 0.5661 - val_acc: 0.7000\n",
            "Epoch 5/50\n",
            "32/32 [==============================] - 8s 255ms/step - loss: 0.3795 - acc: 0.8423 - val_loss: 0.6673 - val_acc: 0.6380\n",
            "Epoch 6/50\n",
            "32/32 [==============================] - 8s 251ms/step - loss: 0.3758 - acc: 0.8398 - val_loss: 0.5789 - val_acc: 0.6930\n",
            "Epoch 7/50\n",
            "32/32 [==============================] - 8s 256ms/step - loss: 0.3571 - acc: 0.8461 - val_loss: 0.5755 - val_acc: 0.6970\n",
            "Epoch 8/50\n",
            "32/32 [==============================] - 8s 255ms/step - loss: 0.3430 - acc: 0.8624 - val_loss: 0.5662 - val_acc: 0.7180\n",
            "Epoch 9/50\n",
            "32/32 [==============================] - 8s 255ms/step - loss: 0.3508 - acc: 0.8438 - val_loss: 0.5744 - val_acc: 0.7060\n",
            "Epoch 10/50\n",
            "32/32 [==============================] - 8s 255ms/step - loss: 0.3418 - acc: 0.8491 - val_loss: 0.6686 - val_acc: 0.6730\n",
            "Epoch 11/50\n",
            "32/32 [==============================] - 8s 255ms/step - loss: 0.3364 - acc: 0.8457 - val_loss: 0.5850 - val_acc: 0.6980\n",
            "Epoch 12/50\n",
            "32/32 [==============================] - 8s 252ms/step - loss: 0.2776 - acc: 0.9032 - val_loss: 0.5813 - val_acc: 0.6990\n",
            "Epoch 13/50\n",
            "32/32 [==============================] - 8s 254ms/step - loss: 0.2500 - acc: 0.9175 - val_loss: 0.6095 - val_acc: 0.7150\n",
            "Epoch 14/50\n",
            "32/32 [==============================] - 8s 254ms/step - loss: 0.2553 - acc: 0.8994 - val_loss: 0.6569 - val_acc: 0.6990\n"
          ],
          "name": "stdout"
        }
      ]
    },
    {
      "cell_type": "code",
      "metadata": {
        "id": "qF7ucCQ0_vUH",
        "colab_type": "code",
        "outputId": "3dc01866-fe35-4dc7-8634-8f22b9d659a3",
        "colab": {
          "base_uri": "https://localhost:8080/",
          "height": 404
        }
      },
      "source": [
        "plt.figure(figsize=(16, 6))\n",
        "plt.subplot(1, 2, 1)\n",
        "nepochs=len(history.history['loss'])\n",
        "plt.plot(range(nepochs), history.history['loss'], 'g-', label='train')\n",
        "plt.plot(range(nepochs), history.history['val_loss'], 'c-', label='test')\n",
        "plt.legend(prop={'size':20})\n",
        "plt.ylabel('loss')\n",
        "plt.xlabel('number of epochs')\n",
        "plt.subplot(1, 2, 2)\n",
        "plt.plot(range(nepochs), history.history['acc'], 'g-', label='train')\n",
        "plt.plot(range(nepochs), history.history['val_acc'], 'c-', label='test')\n",
        "plt.legend(prop={'size':20})\n",
        "plt.ylabel('accuracy')\n",
        "plt.xlabel('number of epochs')"
      ],
      "execution_count": 0,
      "outputs": [
        {
          "output_type": "execute_result",
          "data": {
            "text/plain": [
              "Text(0.5, 0, 'number of epochs')"
            ]
          },
          "metadata": {
            "tags": []
          },
          "execution_count": 106
        },
        {
          "output_type": "display_data",
          "data": {
            "image/png": "[encoded data removed]",
            "text/plain": [
              "<Figure size 1152x432 with 2 Axes>"
            ]
          },
          "metadata": {
            "tags": []
          }
        }
      ]
    },
    {
      "cell_type": "code",
      "metadata": {
        "id": "ANUKd12gBVAS",
        "colab_type": "code",
        "outputId": "a9e710d6-c3f9-4be5-fc84-7431dbfa1685",
        "colab": {
          "base_uri": "https://localhost:8080/",
          "height": 33
        }
      },
      "source": [
        "_, acc = model.evaluate_generator(test_it, steps=len(test_it), verbose=0)\n",
        "print('> %.3f' % (acc * 100.0))"
      ],
      "execution_count": 0,
      "outputs": [
        {
          "output_type": "stream",
          "text": [
            "> 69.900\n"
          ],
          "name": "stdout"
        }
      ]
    }
  ]
}